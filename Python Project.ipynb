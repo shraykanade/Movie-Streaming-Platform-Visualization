{
 "cells": [
  {
   "cell_type": "markdown",
   "id": "e92c2067-258c-48b5-a44d-777fe856c820",
   "metadata": {},
   "source": [
    "# Movie Streaming Platform Visualisation \n",
    " "
   ]
  },
  {
   "cell_type": "markdown",
   "id": "59eafd19-d798-4fd6-87b6-026a232858ac",
   "metadata": {},
   "source": [
    "### Introduction: \n",
    "Our project 'Movie Streaming Platform Visualization' considers 4 major streaming platforms Netflix, Hulu, Disney+ and Amazon Prime are compared to find which one is better in various departments. We have analyzed a dataset from Kaggle that has information of various movies available on these 4 streaming platforms. "
   ]
  },
  {
   "cell_type": "markdown",
   "id": "aa119aeb-36d8-481b-a572-a1b9993db0ed",
   "metadata": {},
   "source": [
    "### Data Description: \n",
    "Our dataset is https://www.kaggle.com/ruchi798/movies-on-netflix-prime-video-hulu-and-disney. \n",
    "It consists of Movie name (Title), 4 Streaming platforms (if a movie is available in a certain platform that column has 1 or else 0), Release Year, Age Group, IMDB Rating, Rotten Tomato Rating, Movie Director, Genre, Country Availability, Movie Language and Runtime."
   ]
  },
  {
   "cell_type": "markdown",
   "id": "5eb97023-8ce4-42d9-84f3-552c8b1b0f00",
   "metadata": {},
   "source": [
    "### Importing required Packages"
   ]
  },
  {
   "cell_type": "code",
   "execution_count": 186,
   "id": "1c398275-d5c8-48de-9a43-ed194e92b414",
   "metadata": {},
   "outputs": [],
   "source": [
    "import numpy as np\n",
    "import pandas as pd\n",
    "import matplotlib.pyplot as plt\n",
    "import seaborn as sns\n",
    "import itertools\n",
    "from sklearn.feature_extraction.text import TfidfVectorizer    \n",
    "from nltk.tokenize import RegexpTokenizer\n",
    "from sklearn import preprocessing\n",
    "from scipy.sparse import hstack"
   ]
  },
  {
   "cell_type": "markdown",
   "id": "32e63d76-8445-4999-a463-a86b33aa918c",
   "metadata": {},
   "source": [
    "### Reading dataset"
   ]
  },
  {
   "cell_type": "code",
   "execution_count": 187,
   "id": "e7618040-bd73-4115-a8ec-ca35834c4dec",
   "metadata": {},
   "outputs": [
    {
     "data": {
      "text/html": [
       "<div>\n",
       "<style scoped>\n",
       "    .dataframe tbody tr th:only-of-type {\n",
       "        vertical-align: middle;\n",
       "    }\n",
       "\n",
       "    .dataframe tbody tr th {\n",
       "        vertical-align: top;\n",
       "    }\n",
       "\n",
       "    .dataframe thead th {\n",
       "        text-align: right;\n",
       "    }\n",
       "</style>\n",
       "<table border=\"1\" class=\"dataframe\">\n",
       "  <thead>\n",
       "    <tr style=\"text-align: right;\">\n",
       "      <th></th>\n",
       "      <th>Unnamed: 0</th>\n",
       "      <th>ID</th>\n",
       "      <th>Title</th>\n",
       "      <th>Year</th>\n",
       "      <th>Age</th>\n",
       "      <th>IMDb</th>\n",
       "      <th>Rotten Tomatoes</th>\n",
       "      <th>Netflix</th>\n",
       "      <th>Hulu</th>\n",
       "      <th>Prime Video</th>\n",
       "      <th>Disney+</th>\n",
       "      <th>Type</th>\n",
       "      <th>Directors</th>\n",
       "      <th>Genres</th>\n",
       "      <th>Country</th>\n",
       "      <th>Language</th>\n",
       "      <th>Runtime</th>\n",
       "    </tr>\n",
       "  </thead>\n",
       "  <tbody>\n",
       "    <tr>\n",
       "      <th>0</th>\n",
       "      <td>0</td>\n",
       "      <td>1</td>\n",
       "      <td>The Irishman</td>\n",
       "      <td>2019</td>\n",
       "      <td>18+</td>\n",
       "      <td>7.8/10</td>\n",
       "      <td>98/100</td>\n",
       "      <td>1</td>\n",
       "      <td>0</td>\n",
       "      <td>0</td>\n",
       "      <td>0</td>\n",
       "      <td>0</td>\n",
       "      <td>Martin Scorsese</td>\n",
       "      <td>Biography,Crime,Drama</td>\n",
       "      <td>United States</td>\n",
       "      <td>English,Italian,Latin,Spanish,German</td>\n",
       "      <td>209.0</td>\n",
       "    </tr>\n",
       "    <tr>\n",
       "      <th>1</th>\n",
       "      <td>1</td>\n",
       "      <td>2</td>\n",
       "      <td>Dangal</td>\n",
       "      <td>2016</td>\n",
       "      <td>7+</td>\n",
       "      <td>8.4/10</td>\n",
       "      <td>97/100</td>\n",
       "      <td>1</td>\n",
       "      <td>0</td>\n",
       "      <td>0</td>\n",
       "      <td>0</td>\n",
       "      <td>0</td>\n",
       "      <td>Nitesh Tiwari</td>\n",
       "      <td>Action,Biography,Drama,Sport</td>\n",
       "      <td>India,United States,United Kingdom,Australia,K...</td>\n",
       "      <td>Hindi,English</td>\n",
       "      <td>161.0</td>\n",
       "    </tr>\n",
       "    <tr>\n",
       "      <th>2</th>\n",
       "      <td>2</td>\n",
       "      <td>3</td>\n",
       "      <td>David Attenborough: A Life on Our Planet</td>\n",
       "      <td>2020</td>\n",
       "      <td>7+</td>\n",
       "      <td>9.0/10</td>\n",
       "      <td>95/100</td>\n",
       "      <td>1</td>\n",
       "      <td>0</td>\n",
       "      <td>0</td>\n",
       "      <td>0</td>\n",
       "      <td>0</td>\n",
       "      <td>Alastair Fothergill,Jonathan Hughes,Keith Scholey</td>\n",
       "      <td>Documentary,Biography</td>\n",
       "      <td>United Kingdom</td>\n",
       "      <td>English</td>\n",
       "      <td>83.0</td>\n",
       "    </tr>\n",
       "    <tr>\n",
       "      <th>3</th>\n",
       "      <td>3</td>\n",
       "      <td>4</td>\n",
       "      <td>Lagaan: Once Upon a Time in India</td>\n",
       "      <td>2001</td>\n",
       "      <td>7+</td>\n",
       "      <td>8.1/10</td>\n",
       "      <td>94/100</td>\n",
       "      <td>1</td>\n",
       "      <td>0</td>\n",
       "      <td>0</td>\n",
       "      <td>0</td>\n",
       "      <td>0</td>\n",
       "      <td>Ashutosh Gowariker</td>\n",
       "      <td>Drama,Musical,Sport</td>\n",
       "      <td>India,United Kingdom</td>\n",
       "      <td>Hindi,English</td>\n",
       "      <td>224.0</td>\n",
       "    </tr>\n",
       "    <tr>\n",
       "      <th>4</th>\n",
       "      <td>4</td>\n",
       "      <td>5</td>\n",
       "      <td>Roma</td>\n",
       "      <td>2018</td>\n",
       "      <td>18+</td>\n",
       "      <td>7.7/10</td>\n",
       "      <td>94/100</td>\n",
       "      <td>1</td>\n",
       "      <td>0</td>\n",
       "      <td>0</td>\n",
       "      <td>0</td>\n",
       "      <td>0</td>\n",
       "      <td>NaN</td>\n",
       "      <td>Action,Drama,History,Romance,War</td>\n",
       "      <td>United Kingdom,United States</td>\n",
       "      <td>English</td>\n",
       "      <td>52.0</td>\n",
       "    </tr>\n",
       "  </tbody>\n",
       "</table>\n",
       "</div>"
      ],
      "text/plain": [
       "   Unnamed: 0  ID                                     Title  Year  Age  \\\n",
       "0           0   1                              The Irishman  2019  18+   \n",
       "1           1   2                                    Dangal  2016   7+   \n",
       "2           2   3  David Attenborough: A Life on Our Planet  2020   7+   \n",
       "3           3   4         Lagaan: Once Upon a Time in India  2001   7+   \n",
       "4           4   5                                      Roma  2018  18+   \n",
       "\n",
       "     IMDb Rotten Tomatoes  Netflix  Hulu  Prime Video  Disney+  Type  \\\n",
       "0  7.8/10          98/100        1     0            0        0     0   \n",
       "1  8.4/10          97/100        1     0            0        0     0   \n",
       "2  9.0/10          95/100        1     0            0        0     0   \n",
       "3  8.1/10          94/100        1     0            0        0     0   \n",
       "4  7.7/10          94/100        1     0            0        0     0   \n",
       "\n",
       "                                           Directors  \\\n",
       "0                                    Martin Scorsese   \n",
       "1                                      Nitesh Tiwari   \n",
       "2  Alastair Fothergill,Jonathan Hughes,Keith Scholey   \n",
       "3                                 Ashutosh Gowariker   \n",
       "4                                                NaN   \n",
       "\n",
       "                             Genres  \\\n",
       "0             Biography,Crime,Drama   \n",
       "1      Action,Biography,Drama,Sport   \n",
       "2             Documentary,Biography   \n",
       "3               Drama,Musical,Sport   \n",
       "4  Action,Drama,History,Romance,War   \n",
       "\n",
       "                                             Country  \\\n",
       "0                                      United States   \n",
       "1  India,United States,United Kingdom,Australia,K...   \n",
       "2                                     United Kingdom   \n",
       "3                               India,United Kingdom   \n",
       "4                       United Kingdom,United States   \n",
       "\n",
       "                               Language  Runtime  \n",
       "0  English,Italian,Latin,Spanish,German    209.0  \n",
       "1                         Hindi,English    161.0  \n",
       "2                               English     83.0  \n",
       "3                         Hindi,English    224.0  \n",
       "4                               English     52.0  "
      ]
     },
     "execution_count": 187,
     "metadata": {},
     "output_type": "execute_result"
    }
   ],
   "source": [
    "df = pd.read_csv('MoviesOnStreamingPlatforms_updated.csv')\n",
    "df.head()"
   ]
  },
  {
   "cell_type": "markdown",
   "id": "68b8ac8d-2e20-4eea-ae4a-702d3d03422f",
   "metadata": {},
   "source": [
    "### Data Preprocessing"
   ]
  },
  {
   "cell_type": "code",
   "execution_count": 188,
   "id": "4486c158",
   "metadata": {},
   "outputs": [],
   "source": [
    "df = df.drop(['Unnamed: 0'], axis=1)"
   ]
  },
  {
   "cell_type": "code",
   "execution_count": 189,
   "id": "65784cca",
   "metadata": {
    "scrolled": true
   },
   "outputs": [
    {
     "name": "stdout",
     "output_type": "stream",
     "text": [
      "<class 'pandas.core.frame.DataFrame'>\n",
      "RangeIndex: 9515 entries, 0 to 9514\n",
      "Data columns (total 16 columns):\n",
      " #   Column           Non-Null Count  Dtype  \n",
      "---  ------           --------------  -----  \n",
      " 0   ID               9515 non-null   int64  \n",
      " 1   Title            9515 non-null   object \n",
      " 2   Year             9515 non-null   int64  \n",
      " 3   Age              5338 non-null   object \n",
      " 4   IMDb             9309 non-null   object \n",
      " 5   Rotten Tomatoes  9508 non-null   object \n",
      " 6   Netflix          9515 non-null   int64  \n",
      " 7   Hulu             9515 non-null   int64  \n",
      " 8   Prime Video      9515 non-null   int64  \n",
      " 9   Disney+          9515 non-null   int64  \n",
      " 10  Type             9515 non-null   int64  \n",
      " 11  Directors        9104 non-null   object \n",
      " 12  Genres           9399 non-null   object \n",
      " 13  Country          9261 non-null   object \n",
      " 14  Language         9202 non-null   object \n",
      " 15  Runtime          9196 non-null   float64\n",
      "dtypes: float64(1), int64(7), object(8)\n",
      "memory usage: 1.2+ MB\n"
     ]
    }
   ],
   "source": [
    "df.info()\n"
   ]
  },
  {
   "cell_type": "code",
   "execution_count": 190,
   "id": "3aba3aab-4f9e-492c-a64e-0d0073a22f6f",
   "metadata": {},
   "outputs": [],
   "source": [
    "# calculating the missing values percentage.\n",
    "# if column has more than 50% missing value drop that column.\n",
    "# drop the rows containing missing values."
   ]
  },
  {
   "cell_type": "code",
   "execution_count": 191,
   "id": "4a045c92",
   "metadata": {},
   "outputs": [
    {
     "data": {
      "text/html": [
       "<div>\n",
       "<style scoped>\n",
       "    .dataframe tbody tr th:only-of-type {\n",
       "        vertical-align: middle;\n",
       "    }\n",
       "\n",
       "    .dataframe tbody tr th {\n",
       "        vertical-align: top;\n",
       "    }\n",
       "\n",
       "    .dataframe thead th {\n",
       "        text-align: right;\n",
       "    }\n",
       "</style>\n",
       "<table border=\"1\" class=\"dataframe\">\n",
       "  <thead>\n",
       "    <tr style=\"text-align: right;\">\n",
       "      <th></th>\n",
       "      <th>miss_count</th>\n",
       "      <th>miss_%</th>\n",
       "    </tr>\n",
       "  </thead>\n",
       "  <tbody>\n",
       "    <tr>\n",
       "      <th>ID</th>\n",
       "      <td>0</td>\n",
       "      <td>0.00</td>\n",
       "    </tr>\n",
       "    <tr>\n",
       "      <th>Title</th>\n",
       "      <td>0</td>\n",
       "      <td>0.00</td>\n",
       "    </tr>\n",
       "    <tr>\n",
       "      <th>Year</th>\n",
       "      <td>0</td>\n",
       "      <td>0.00</td>\n",
       "    </tr>\n",
       "    <tr>\n",
       "      <th>Age</th>\n",
       "      <td>4177</td>\n",
       "      <td>43.90</td>\n",
       "    </tr>\n",
       "    <tr>\n",
       "      <th>IMDb</th>\n",
       "      <td>206</td>\n",
       "      <td>2.17</td>\n",
       "    </tr>\n",
       "    <tr>\n",
       "      <th>Rotten Tomatoes</th>\n",
       "      <td>7</td>\n",
       "      <td>0.07</td>\n",
       "    </tr>\n",
       "    <tr>\n",
       "      <th>Netflix</th>\n",
       "      <td>0</td>\n",
       "      <td>0.00</td>\n",
       "    </tr>\n",
       "    <tr>\n",
       "      <th>Hulu</th>\n",
       "      <td>0</td>\n",
       "      <td>0.00</td>\n",
       "    </tr>\n",
       "    <tr>\n",
       "      <th>Prime Video</th>\n",
       "      <td>0</td>\n",
       "      <td>0.00</td>\n",
       "    </tr>\n",
       "    <tr>\n",
       "      <th>Disney+</th>\n",
       "      <td>0</td>\n",
       "      <td>0.00</td>\n",
       "    </tr>\n",
       "    <tr>\n",
       "      <th>Type</th>\n",
       "      <td>0</td>\n",
       "      <td>0.00</td>\n",
       "    </tr>\n",
       "    <tr>\n",
       "      <th>Directors</th>\n",
       "      <td>411</td>\n",
       "      <td>4.32</td>\n",
       "    </tr>\n",
       "    <tr>\n",
       "      <th>Genres</th>\n",
       "      <td>116</td>\n",
       "      <td>1.22</td>\n",
       "    </tr>\n",
       "    <tr>\n",
       "      <th>Country</th>\n",
       "      <td>254</td>\n",
       "      <td>2.67</td>\n",
       "    </tr>\n",
       "    <tr>\n",
       "      <th>Language</th>\n",
       "      <td>313</td>\n",
       "      <td>3.29</td>\n",
       "    </tr>\n",
       "    <tr>\n",
       "      <th>Runtime</th>\n",
       "      <td>319</td>\n",
       "      <td>3.35</td>\n",
       "    </tr>\n",
       "  </tbody>\n",
       "</table>\n",
       "</div>"
      ],
      "text/plain": [
       "                 miss_count  miss_%\n",
       "ID                        0    0.00\n",
       "Title                     0    0.00\n",
       "Year                      0    0.00\n",
       "Age                    4177   43.90\n",
       "IMDb                    206    2.17\n",
       "Rotten Tomatoes           7    0.07\n",
       "Netflix                   0    0.00\n",
       "Hulu                      0    0.00\n",
       "Prime Video               0    0.00\n",
       "Disney+                   0    0.00\n",
       "Type                      0    0.00\n",
       "Directors               411    4.32\n",
       "Genres                  116    1.22\n",
       "Country                 254    2.67\n",
       "Language                313    3.29\n",
       "Runtime                 319    3.35"
      ]
     },
     "execution_count": 191,
     "metadata": {},
     "output_type": "execute_result"
    }
   ],
   "source": [
    "miss = pd.DataFrame(df.isnull().sum())\n",
    "\n",
    "miss = miss.rename(columns={0: \"miss_count\"})\n",
    "miss['miss_%'] = miss.miss_count/len(df.ID)*100\n",
    "miss['miss_%'] = miss['miss_%'].round(2)\n",
    "miss"
   ]
  },
  {
   "cell_type": "code",
   "execution_count": 192,
   "id": "9bef9878",
   "metadata": {},
   "outputs": [
    {
     "name": "stdout",
     "output_type": "stream",
     "text": [
      "<class 'pandas.core.frame.DataFrame'>\n",
      "RangeIndex: 5080 entries, 0 to 5079\n",
      "Data columns (total 16 columns):\n",
      " #   Column           Non-Null Count  Dtype  \n",
      "---  ------           --------------  -----  \n",
      " 0   ID               5080 non-null   int64  \n",
      " 1   Title            5080 non-null   object \n",
      " 2   Year             5080 non-null   object \n",
      " 3   Age              5080 non-null   object \n",
      " 4   IMDb             5080 non-null   object \n",
      " 5   Rotten Tomatoes  5080 non-null   object \n",
      " 6   Netflix          5080 non-null   int64  \n",
      " 7   Hulu             5080 non-null   int64  \n",
      " 8   Prime Video      5080 non-null   int64  \n",
      " 9   Disney+          5080 non-null   int64  \n",
      " 10  Type             5080 non-null   int64  \n",
      " 11  Directors        5080 non-null   object \n",
      " 12  Genres           5080 non-null   object \n",
      " 13  Country          5080 non-null   object \n",
      " 14  Language         5080 non-null   object \n",
      " 15  Runtime          5080 non-null   float64\n",
      "dtypes: float64(1), int64(6), object(9)\n",
      "memory usage: 635.1+ KB\n"
     ]
    }
   ],
   "source": [
    "df.dropna(subset=['Age', 'IMDb','Rotten Tomatoes','Directors','Genres', 'Country', 'Language', 'Runtime'], inplace=True)\n",
    "df.reset_index(drop=True, inplace=True)\n",
    "df.Year = df.Year.astype(\"object\")\n",
    "df.info()"
   ]
  },
  {
   "cell_type": "code",
   "execution_count": 193,
   "id": "6b1954bc-a2a3-4619-8ca1-4c80439b4bfc",
   "metadata": {},
   "outputs": [],
   "source": [
    "## converting IMDB and Rotten Tomatoes columns to integer for analysis"
   ]
  },
  {
   "cell_type": "code",
   "execution_count": 194,
   "id": "b85295dd",
   "metadata": {},
   "outputs": [
    {
     "data": {
      "text/html": [
       "<div>\n",
       "<style scoped>\n",
       "    .dataframe tbody tr th:only-of-type {\n",
       "        vertical-align: middle;\n",
       "    }\n",
       "\n",
       "    .dataframe tbody tr th {\n",
       "        vertical-align: top;\n",
       "    }\n",
       "\n",
       "    .dataframe thead th {\n",
       "        text-align: right;\n",
       "    }\n",
       "</style>\n",
       "<table border=\"1\" class=\"dataframe\">\n",
       "  <thead>\n",
       "    <tr style=\"text-align: right;\">\n",
       "      <th></th>\n",
       "      <th>ID</th>\n",
       "      <th>Title</th>\n",
       "      <th>Year</th>\n",
       "      <th>Age</th>\n",
       "      <th>IMDb</th>\n",
       "      <th>Rotten Tomatoes</th>\n",
       "      <th>Netflix</th>\n",
       "      <th>Hulu</th>\n",
       "      <th>Prime Video</th>\n",
       "      <th>Disney+</th>\n",
       "      <th>Type</th>\n",
       "      <th>Directors</th>\n",
       "      <th>Genres</th>\n",
       "      <th>Country</th>\n",
       "      <th>Language</th>\n",
       "      <th>Runtime</th>\n",
       "    </tr>\n",
       "  </thead>\n",
       "  <tbody>\n",
       "    <tr>\n",
       "      <th>0</th>\n",
       "      <td>1</td>\n",
       "      <td>The Irishman</td>\n",
       "      <td>2019</td>\n",
       "      <td>18+</td>\n",
       "      <td>78</td>\n",
       "      <td>98</td>\n",
       "      <td>1</td>\n",
       "      <td>0</td>\n",
       "      <td>0</td>\n",
       "      <td>0</td>\n",
       "      <td>0</td>\n",
       "      <td>Martin Scorsese</td>\n",
       "      <td>Biography,Crime,Drama</td>\n",
       "      <td>United States</td>\n",
       "      <td>English,Italian,Latin,Spanish,German</td>\n",
       "      <td>209.0</td>\n",
       "    </tr>\n",
       "    <tr>\n",
       "      <th>1</th>\n",
       "      <td>2</td>\n",
       "      <td>Dangal</td>\n",
       "      <td>2016</td>\n",
       "      <td>7+</td>\n",
       "      <td>84</td>\n",
       "      <td>97</td>\n",
       "      <td>1</td>\n",
       "      <td>0</td>\n",
       "      <td>0</td>\n",
       "      <td>0</td>\n",
       "      <td>0</td>\n",
       "      <td>Nitesh Tiwari</td>\n",
       "      <td>Action,Biography,Drama,Sport</td>\n",
       "      <td>India,United States,United Kingdom,Australia,K...</td>\n",
       "      <td>Hindi,English</td>\n",
       "      <td>161.0</td>\n",
       "    </tr>\n",
       "    <tr>\n",
       "      <th>2</th>\n",
       "      <td>3</td>\n",
       "      <td>David Attenborough: A Life on Our Planet</td>\n",
       "      <td>2020</td>\n",
       "      <td>7+</td>\n",
       "      <td>90</td>\n",
       "      <td>95</td>\n",
       "      <td>1</td>\n",
       "      <td>0</td>\n",
       "      <td>0</td>\n",
       "      <td>0</td>\n",
       "      <td>0</td>\n",
       "      <td>Alastair Fothergill,Jonathan Hughes,Keith Scholey</td>\n",
       "      <td>Documentary,Biography</td>\n",
       "      <td>United Kingdom</td>\n",
       "      <td>English</td>\n",
       "      <td>83.0</td>\n",
       "    </tr>\n",
       "    <tr>\n",
       "      <th>3</th>\n",
       "      <td>4</td>\n",
       "      <td>Lagaan: Once Upon a Time in India</td>\n",
       "      <td>2001</td>\n",
       "      <td>7+</td>\n",
       "      <td>81</td>\n",
       "      <td>94</td>\n",
       "      <td>1</td>\n",
       "      <td>0</td>\n",
       "      <td>0</td>\n",
       "      <td>0</td>\n",
       "      <td>0</td>\n",
       "      <td>Ashutosh Gowariker</td>\n",
       "      <td>Drama,Musical,Sport</td>\n",
       "      <td>India,United Kingdom</td>\n",
       "      <td>Hindi,English</td>\n",
       "      <td>224.0</td>\n",
       "    </tr>\n",
       "    <tr>\n",
       "      <th>4</th>\n",
       "      <td>6</td>\n",
       "      <td>To All the Boys I've Loved Before</td>\n",
       "      <td>2018</td>\n",
       "      <td>13+</td>\n",
       "      <td>71</td>\n",
       "      <td>94</td>\n",
       "      <td>1</td>\n",
       "      <td>0</td>\n",
       "      <td>0</td>\n",
       "      <td>0</td>\n",
       "      <td>0</td>\n",
       "      <td>Susan Johnson</td>\n",
       "      <td>Comedy,Drama,Romance</td>\n",
       "      <td>United States</td>\n",
       "      <td>English</td>\n",
       "      <td>99.0</td>\n",
       "    </tr>\n",
       "    <tr>\n",
       "      <th>...</th>\n",
       "      <td>...</td>\n",
       "      <td>...</td>\n",
       "      <td>...</td>\n",
       "      <td>...</td>\n",
       "      <td>...</td>\n",
       "      <td>...</td>\n",
       "      <td>...</td>\n",
       "      <td>...</td>\n",
       "      <td>...</td>\n",
       "      <td>...</td>\n",
       "      <td>...</td>\n",
       "      <td>...</td>\n",
       "      <td>...</td>\n",
       "      <td>...</td>\n",
       "      <td>...</td>\n",
       "      <td>...</td>\n",
       "    </tr>\n",
       "    <tr>\n",
       "      <th>5075</th>\n",
       "      <td>9460</td>\n",
       "      <td>Big Sur-Wild California</td>\n",
       "      <td>2010</td>\n",
       "      <td>all</td>\n",
       "      <td>67</td>\n",
       "      <td>40</td>\n",
       "      <td>0</td>\n",
       "      <td>0</td>\n",
       "      <td>0</td>\n",
       "      <td>1</td>\n",
       "      <td>0</td>\n",
       "      <td>Sue Houghton</td>\n",
       "      <td>Documentary,History</td>\n",
       "      <td>United States</td>\n",
       "      <td>English</td>\n",
       "      <td>50.0</td>\n",
       "    </tr>\n",
       "    <tr>\n",
       "      <th>5076</th>\n",
       "      <td>9463</td>\n",
       "      <td>Justin Morgan Had a Horse</td>\n",
       "      <td>1972</td>\n",
       "      <td>all</td>\n",
       "      <td>65</td>\n",
       "      <td>39</td>\n",
       "      <td>0</td>\n",
       "      <td>0</td>\n",
       "      <td>0</td>\n",
       "      <td>1</td>\n",
       "      <td>0</td>\n",
       "      <td>Hollingsworth Morse</td>\n",
       "      <td>Family,Drama,Western</td>\n",
       "      <td>United States</td>\n",
       "      <td>English</td>\n",
       "      <td>91.0</td>\n",
       "    </tr>\n",
       "    <tr>\n",
       "      <th>5077</th>\n",
       "      <td>9465</td>\n",
       "      <td>Richie Rich's Christmas Wish</td>\n",
       "      <td>1998</td>\n",
       "      <td>all</td>\n",
       "      <td>41</td>\n",
       "      <td>39</td>\n",
       "      <td>0</td>\n",
       "      <td>0</td>\n",
       "      <td>0</td>\n",
       "      <td>1</td>\n",
       "      <td>0</td>\n",
       "      <td>John Murlowski</td>\n",
       "      <td>Comedy,Family</td>\n",
       "      <td>United States</td>\n",
       "      <td>English</td>\n",
       "      <td>84.0</td>\n",
       "    </tr>\n",
       "    <tr>\n",
       "      <th>5078</th>\n",
       "      <td>9495</td>\n",
       "      <td>Sultan And The Rock Star</td>\n",
       "      <td>1980</td>\n",
       "      <td>all</td>\n",
       "      <td>56</td>\n",
       "      <td>34</td>\n",
       "      <td>0</td>\n",
       "      <td>0</td>\n",
       "      <td>0</td>\n",
       "      <td>1</td>\n",
       "      <td>0</td>\n",
       "      <td>Edward M. Abroms</td>\n",
       "      <td>Adventure,Drama,Family</td>\n",
       "      <td>United States</td>\n",
       "      <td>English</td>\n",
       "      <td>60.0</td>\n",
       "    </tr>\n",
       "    <tr>\n",
       "      <th>5079</th>\n",
       "      <td>9496</td>\n",
       "      <td>My Music Story: Yoshiki</td>\n",
       "      <td>2021</td>\n",
       "      <td>16+</td>\n",
       "      <td>73</td>\n",
       "      <td>33</td>\n",
       "      <td>0</td>\n",
       "      <td>0</td>\n",
       "      <td>0</td>\n",
       "      <td>1</td>\n",
       "      <td>0</td>\n",
       "      <td>Aiji Okazaki,Kentaro Takayanagi</td>\n",
       "      <td>Documentary,Music</td>\n",
       "      <td>United States,Japan</td>\n",
       "      <td>Japanese</td>\n",
       "      <td>47.0</td>\n",
       "    </tr>\n",
       "  </tbody>\n",
       "</table>\n",
       "<p>5080 rows × 16 columns</p>\n",
       "</div>"
      ],
      "text/plain": [
       "        ID                                     Title  Year  Age IMDb  \\\n",
       "0        1                              The Irishman  2019  18+   78   \n",
       "1        2                                    Dangal  2016   7+   84   \n",
       "2        3  David Attenborough: A Life on Our Planet  2020   7+   90   \n",
       "3        4         Lagaan: Once Upon a Time in India  2001   7+   81   \n",
       "4        6         To All the Boys I've Loved Before  2018  13+   71   \n",
       "...    ...                                       ...   ...  ...  ...   \n",
       "5075  9460                   Big Sur-Wild California  2010  all   67   \n",
       "5076  9463                 Justin Morgan Had a Horse  1972  all   65   \n",
       "5077  9465              Richie Rich's Christmas Wish  1998  all   41   \n",
       "5078  9495                  Sultan And The Rock Star  1980  all   56   \n",
       "5079  9496                   My Music Story: Yoshiki  2021  16+   73   \n",
       "\n",
       "     Rotten Tomatoes  Netflix  Hulu  Prime Video  Disney+  Type  \\\n",
       "0                 98        1     0            0        0     0   \n",
       "1                 97        1     0            0        0     0   \n",
       "2                 95        1     0            0        0     0   \n",
       "3                 94        1     0            0        0     0   \n",
       "4                 94        1     0            0        0     0   \n",
       "...              ...      ...   ...          ...      ...   ...   \n",
       "5075              40        0     0            0        1     0   \n",
       "5076              39        0     0            0        1     0   \n",
       "5077              39        0     0            0        1     0   \n",
       "5078              34        0     0            0        1     0   \n",
       "5079              33        0     0            0        1     0   \n",
       "\n",
       "                                              Directors  \\\n",
       "0                                       Martin Scorsese   \n",
       "1                                         Nitesh Tiwari   \n",
       "2     Alastair Fothergill,Jonathan Hughes,Keith Scholey   \n",
       "3                                    Ashutosh Gowariker   \n",
       "4                                         Susan Johnson   \n",
       "...                                                 ...   \n",
       "5075                                       Sue Houghton   \n",
       "5076                                Hollingsworth Morse   \n",
       "5077                                     John Murlowski   \n",
       "5078                                   Edward M. Abroms   \n",
       "5079                    Aiji Okazaki,Kentaro Takayanagi   \n",
       "\n",
       "                            Genres  \\\n",
       "0            Biography,Crime,Drama   \n",
       "1     Action,Biography,Drama,Sport   \n",
       "2            Documentary,Biography   \n",
       "3              Drama,Musical,Sport   \n",
       "4             Comedy,Drama,Romance   \n",
       "...                            ...   \n",
       "5075           Documentary,History   \n",
       "5076          Family,Drama,Western   \n",
       "5077                 Comedy,Family   \n",
       "5078        Adventure,Drama,Family   \n",
       "5079             Documentary,Music   \n",
       "\n",
       "                                                Country  \\\n",
       "0                                         United States   \n",
       "1     India,United States,United Kingdom,Australia,K...   \n",
       "2                                        United Kingdom   \n",
       "3                                  India,United Kingdom   \n",
       "4                                         United States   \n",
       "...                                                 ...   \n",
       "5075                                      United States   \n",
       "5076                                      United States   \n",
       "5077                                      United States   \n",
       "5078                                      United States   \n",
       "5079                                United States,Japan   \n",
       "\n",
       "                                  Language  Runtime  \n",
       "0     English,Italian,Latin,Spanish,German    209.0  \n",
       "1                            Hindi,English    161.0  \n",
       "2                                  English     83.0  \n",
       "3                            Hindi,English    224.0  \n",
       "4                                  English     99.0  \n",
       "...                                    ...      ...  \n",
       "5075                               English     50.0  \n",
       "5076                               English     91.0  \n",
       "5077                               English     84.0  \n",
       "5078                               English     60.0  \n",
       "5079                              Japanese     47.0  \n",
       "\n",
       "[5080 rows x 16 columns]"
      ]
     },
     "execution_count": 194,
     "metadata": {},
     "output_type": "execute_result"
    }
   ],
   "source": [
    "df['IMDb'] = df['IMDb'].str[0:3:2] #slice of s from i to j with step k\n",
    "df['Rotten Tomatoes'] = df['Rotten Tomatoes'].str[:2]\n",
    "df"
   ]
  },
  {
   "cell_type": "code",
   "execution_count": 195,
   "id": "f5f6c8ba",
   "metadata": {},
   "outputs": [
    {
     "name": "stdout",
     "output_type": "stream",
     "text": [
      "<class 'pandas.core.frame.DataFrame'>\n",
      "RangeIndex: 5080 entries, 0 to 5079\n",
      "Data columns (total 16 columns):\n",
      " #   Column           Non-Null Count  Dtype  \n",
      "---  ------           --------------  -----  \n",
      " 0   ID               5080 non-null   int64  \n",
      " 1   Title            5080 non-null   object \n",
      " 2   Year             5080 non-null   object \n",
      " 3   Age              5080 non-null   object \n",
      " 4   IMDb             5080 non-null   int64  \n",
      " 5   Rotten Tomatoes  5080 non-null   int64  \n",
      " 6   Netflix          5080 non-null   int64  \n",
      " 7   Hulu             5080 non-null   int64  \n",
      " 8   Prime Video      5080 non-null   int64  \n",
      " 9   Disney+          5080 non-null   int64  \n",
      " 10  Type             5080 non-null   int64  \n",
      " 11  Directors        5080 non-null   object \n",
      " 12  Genres           5080 non-null   object \n",
      " 13  Country          5080 non-null   object \n",
      " 14  Language         5080 non-null   object \n",
      " 15  Runtime          5080 non-null   float64\n",
      "dtypes: float64(1), int64(8), object(7)\n",
      "memory usage: 635.1+ KB\n"
     ]
    }
   ],
   "source": [
    "df.IMDb = df.IMDb.astype(\"int64\")\n",
    "df['Rotten Tomatoes'] = df['Rotten Tomatoes'].astype('int64')\n",
    "df.info()"
   ]
  },
  {
   "cell_type": "code",
   "execution_count": 196,
   "id": "f7c969c2-8128-429c-aab3-057af96c4403",
   "metadata": {},
   "outputs": [],
   "source": [
    "## Visualizing the spread of data Year-wise"
   ]
  },
  {
   "cell_type": "code",
   "execution_count": 225,
   "id": "d47648fb",
   "metadata": {},
   "outputs": [
    {
     "data": {
      "text/plain": [
       "<Figure size 1440x216 with 0 Axes>"
      ]
     },
     "metadata": {},
     "output_type": "display_data"
    },
    {
     "data": {
      "image/png": "[encoded data removed]",
      "text/plain": [
       "<Figure size 360x360 with 1 Axes>"
      ]
     },
     "metadata": {
      "needs_background": "light"
     },
     "output_type": "display_data"
    }
   ],
   "source": [
    "plt.figure(figsize=(20,3))\n",
    "sns.displot(df['Year'])\n",
    "plt.xticks()\n",
    "plt.ylabel(\"Number of Movies\")\n",
    "plt.show()"
   ]
  },
  {
   "cell_type": "code",
   "execution_count": 198,
   "id": "09a3b229-7cdd-40f7-bcb8-b0b49d61a291",
   "metadata": {},
   "outputs": [],
   "source": [
    "## Visualizing the spread of data by IMDB ratings"
   ]
  },
  {
   "cell_type": "code",
   "execution_count": 226,
   "id": "7c283476",
   "metadata": {},
   "outputs": [
    {
     "data": {
      "text/plain": [
       "<Figure size 1440x216 with 0 Axes>"
      ]
     },
     "metadata": {},
     "output_type": "display_data"
    },
    {
     "data": {
      "image/png": "[encoded data removed]",
      "text/plain": [
       "<Figure size 360x360 with 1 Axes>"
      ]
     },
     "metadata": {
      "needs_background": "light"
     },
     "output_type": "display_data"
    }
   ],
   "source": [
    "plt.figure(figsize=(20,3))\n",
    "sns.displot(df['IMDb'])\n",
    "plt.ylabel(\"Number of Movies\")\n",
    "plt.show()"
   ]
  },
  {
   "cell_type": "markdown",
   "id": "34be1ea9-4b06-4d4c-a498-f4bd08ee1947",
   "metadata": {},
   "source": [
    "### Movies available in each country by streaming service."
   ]
  },
  {
   "cell_type": "code",
   "execution_count": 200,
   "id": "bb7e0cf3-7582-4e4a-8484-87adb3179953",
   "metadata": {},
   "outputs": [],
   "source": [
    "\n",
    "df['Country']=df['Country'].str.split(',')\n",
    "df2=pd.DataFrame(list(set(itertools.chain.from_iterable(df.Country))),columns=['Country'])\n"
   ]
  },
  {
   "cell_type": "code",
   "execution_count": 201,
   "id": "9df923cd",
   "metadata": {},
   "outputs": [],
   "source": [
    "Netflix_count=[]\n",
    "Hulu_count=[]\n",
    "Disney_count=[]\n",
    "Prime_count=[]\n",
    "for country in df2['Country']:\n",
    "    n_count=0\n",
    "    p_count=0\n",
    "    d_count=0\n",
    "    h_count=0\n",
    "    for index, row in df.iterrows():\n",
    "        if country in row['Country'] and row['Netflix']==1:\n",
    "            n_count=n_count+row['Netflix']  \n",
    "        if country in row['Country'] and row['Hulu']==1:\n",
    "            h_count=h_count+row['Hulu']\n",
    "        if country in row['Country'] and row['Disney+']==1:\n",
    "            d_count=d_count+row['Disney+']\n",
    "        if country in row['Country'] and row['Prime Video']==1:\n",
    "            p_count=p_count+row['Prime Video']\n",
    "    Netflix_count.append(n_count)\n",
    "    Hulu_count.append(h_count)\n",
    "    Disney_count.append(d_count)\n",
    "    Prime_count.append(p_count)\n",
    "\n",
    "df2['Netflix']=Netflix_count\n",
    "df2['Hulu']=Hulu_count\n",
    "df2['Disney']=Disney_count\n",
    "df2['Prime']=Prime_count"
   ]
  },
  {
   "cell_type": "code",
   "execution_count": 202,
   "id": "2d1671c2-e513-4176-a1c7-9e1de300e6c7",
   "metadata": {},
   "outputs": [],
   "source": [
    "df2['total']=df2['Netflix']+df2['Prime']+df2['Disney']+df2['Hulu']"
   ]
  },
  {
   "cell_type": "code",
   "execution_count": 203,
   "id": "e9995c3f-735b-46fa-8cde-f7ccd39e0228",
   "metadata": {},
   "outputs": [],
   "source": [
    "df2=df2.sort_values(by='total', ascending=False)\n",
    "\n"
   ]
  },
  {
   "cell_type": "code",
   "execution_count": 204,
   "id": "aac63c92-b740-4d5c-a70d-73f34799af55",
   "metadata": {},
   "outputs": [],
   "source": [
    "#1. Movies available in each country by each streaming service. top 6"
   ]
  },
  {
   "cell_type": "code",
   "execution_count": 205,
   "id": "3be436bc-9b5c-4046-b1c9-aa19bd8f77d8",
   "metadata": {},
   "outputs": [
    {
     "data": {
      "image/png": "[encoded data removed]",
      "text/plain": [
       "<Figure size 576x432 with 1 Axes>"
      ]
     },
     "metadata": {
      "needs_background": "light"
     },
     "output_type": "display_data"
    }
   ],
   "source": [
    "X = df2['Country'].head(6)\n",
    "Netflix= df2['Netflix'].head(6)\n",
    "Hulu = df2['Hulu'].head(6)\n",
    "Prime = df2['Prime'].head(6)\n",
    "Disney = df2['Disney'].head(6)\n",
    "\n",
    "\n",
    " \n",
    "X_axis = np.arange(len(X))\n",
    "  \n",
    "plt.bar(X_axis - 0.4, Netflix, 0.2, label = 'Netflix')\n",
    "plt.bar(X_axis - 0.2, Hulu, 0.2, label = 'Hulu')\n",
    "plt.bar(X_axis + 0.0, Prime, 0.2, label = 'Prime Video')\n",
    "plt.bar(X_axis + 0.2, Disney, 0.2, label = 'Disney')\n",
    "\n",
    "\n",
    "\n",
    "  \n",
    "plt.xticks(X_axis, X,fontsize=9)\n",
    "plt.xlabel(\"Countries\")\n",
    "plt.ylabel(\"Number of Movies\")\n",
    "plt.title(\"Number of Movies on each streaming service in countries\")\n",
    "plt.legend()\n",
    "plt.show()"
   ]
  },
  {
   "cell_type": "code",
   "execution_count": 206,
   "id": "58674ee9",
   "metadata": {},
   "outputs": [],
   "source": [
    "platform = ['Prime Video','Netflix', 'Hulu', 'Disney+']\n",
    "platform_imdb=[]\n",
    "\n",
    "for i in platform:\n",
    "    platformstream=df[(df[i] == 1)]\n",
    "    platform_imdb.append(int(platformstream['IMDb'].mode()))\n",
    "    \n"
   ]
  },
  {
   "cell_type": "code",
   "execution_count": 207,
   "id": "29f33898-d813-438f-ba06-0f97f75f3ca9",
   "metadata": {},
   "outputs": [],
   "source": [
    "#2. Statistics of IMDB ratings of the movies available in each streaming platform."
   ]
  },
  {
   "cell_type": "code",
   "execution_count": 208,
   "id": "8d047610-4b31-48a7-9eb8-b525b81833b3",
   "metadata": {},
   "outputs": [
    {
     "name": "stdout",
     "output_type": "stream",
     "text": [
      "Prime Video has IMDb rating mode of 6.2\n",
      "Netflix has IMDb rating mode of 6.5\n",
      "Hulu has IMDb rating mode of 6.2\n",
      "Disney+ has IMDb rating mode of 7.3\n"
     ]
    },
    {
     "data": {
      "image/png": "[encoded data removed]",
      "text/plain": [
       "<Figure size 576x432 with 1 Axes>"
      ]
     },
     "metadata": {
      "needs_background": "light"
     },
     "output_type": "display_data"
    }
   ],
   "source": [
    "df_platforms=pd.DataFrame(platform, columns=['Platforms'])\n",
    "df_platforms['IMDB']=platform_imdb\n",
    "plt.bar(df_platforms.Platforms, df_platforms.IMDB/10, tick_label = platform,\n",
    "        width = 0.8)\n",
    "for val,p in zip(platform_imdb,platform):\n",
    "    print(f'{p} has IMDb rating mode of {val/10}')\n",
    "\n",
    "plt.xlabel('Streaming Platforms')\n",
    "plt.ylabel('IMDB rating')\n",
    "plt.title('IMDB mode')\n",
    "plt.show()"
   ]
  },
  {
   "cell_type": "code",
   "execution_count": 209,
   "id": "2c6b9784",
   "metadata": {},
   "outputs": [],
   "source": [
    "#3.In what all languages movies are provided by each streaming platform"
   ]
  },
  {
   "cell_type": "code",
   "execution_count": 210,
   "id": "4cdf5a94",
   "metadata": {},
   "outputs": [],
   "source": [
    "lang = df['Language'].str.split(',').apply(pd.Series, 1).stack()\n",
    "lang.index = lang.index.droplevel(-1)\n",
    "lang.name = 'Language'\n",
    "del df['Language']\n",
    "df_language = df.join(lang)\n"
   ]
  },
  {
   "cell_type": "code",
   "execution_count": 211,
   "id": "2d3fc3b9-e467-4dde-a31b-abcdabdd894c",
   "metadata": {},
   "outputs": [],
   "source": [
    "platform = ['Prime Video','Netflix', 'Hulu', 'Disney+']\n",
    "language_unique=df_language.Language.unique()\n",
    "dict_language_count={}\n",
    "for language in language_unique:\n",
    "    count_list=[]\n",
    "    for p in platform:\n",
    "        df_boolean=df_language.apply(lambda x : True\n",
    "            if x['Language'] == language and x[p]==1  else False, axis = 1)\n",
    "        count_list.append(len(df_boolean[df_boolean == True].index))\n",
    "    dict_language_count[language]=np.array(count_list)    "
   ]
  },
  {
   "cell_type": "code",
   "execution_count": 212,
   "id": "31713f3d-c385-4a20-ba83-e7b819a5285a",
   "metadata": {},
   "outputs": [],
   "source": [
    "dict_platform={}\n",
    "platform = ['Prime Video','Netflix', 'Hulu', 'Disney+']\n",
    "for i in range(0,4):\n",
    "    language_count=[]\n",
    "    for key,value in dict_language_count.items(): \n",
    "        language_count.append(value[i])\n",
    "    dict_platform[platform[i]]=language_count"
   ]
  },
  {
   "cell_type": "code",
   "execution_count": 224,
   "id": "5f706c43-5c14-4fab-b343-9fb5e22ceda9",
   "metadata": {
    "tags": []
   },
   "outputs": [
    {
     "data": {
      "image/png": "[encoded data removed]",
      "text/plain": [
       "<Figure size 576x432 with 4 Axes>"
      ]
     },
     "metadata": {
      "needs_background": "light"
     },
     "output_type": "display_data"
    }
   ],
   "source": [
    "df_languages = pd.DataFrame(dict_language_count)\n",
    "df_languages['Platforms']=platform\n",
    "for index,row in df_languages.iterrows():\n",
    "    if row['Platforms']=='Prime Video':\n",
    "        df_prime=row.drop(index=['Platforms'])\n",
    "        df_prime=df_prime.sort_values(ascending=False).head(6).transpose()\n",
    "    elif row['Platforms']=='Netflix':\n",
    "        df_netflix=row.drop(index=['Platforms'])\n",
    "        df_netflix=df_netflix.sort_values(ascending=False).head(6).transpose()\n",
    "    elif row['Platforms']=='Hulu':\n",
    "        df_hulu=row.drop(index=['Platforms'])\n",
    "        df_hulu=df_hulu.sort_values(ascending=False).head(6).transpose()\n",
    "    else:\n",
    "        df_disney=row.drop(index=['Platforms'])\n",
    "        df_disney=df_disney.sort_values(ascending=False).head(6).transpose()\n",
    "        \n",
    "    \n",
    "plt.subplot(2, 2, 1)        \n",
    "plt.bar(df_prime.index,df_prime, tick_label = list(df_prime.index), width = 0.8)\n",
    "for i,data in enumerate(df_prime):\n",
    "    plt.text(x=i , y =data+1 , s=f\"{data}\" , fontdict=dict(fontsize=9))\n",
    "plt.xlabel(\"Languages\")\n",
    "plt.ylabel(\"Number of Movies\")\n",
    "plt.title(\"Prime Video\")\n",
    "\n",
    "plt.subplot(2, 2, 2)\n",
    "plt.bar(df_netflix.index,df_netflix, tick_label = list(df_netflix.index),width = 0.8) \n",
    "for i,data in enumerate(df_netflix):\n",
    "    plt.text(x=i , y =data+1 , s=f\"{data}\" , fontdict=dict(fontsize=9))\n",
    "plt.title(\"Netflix\")\n",
    "plt.xlabel(\"Languages\")\n",
    "plt.ylabel(\"Number of Movies\")\n",
    "\n",
    "plt.subplot(2, 2, 3)\n",
    "plt.bar(df_hulu.index,df_hulu, tick_label = list(df_hulu.index), width = 0.8)\n",
    "for i,data in enumerate(df_hulu):\n",
    "    plt.text(x=i , y =data+1 , s=f\"{data}\" , fontdict=dict(fontsize=9))\n",
    "plt.title(\"Hulu\")\n",
    "plt.xlabel(\"Languages\")\n",
    "plt.ylabel(\"Number of Movies\")\n",
    "\n",
    "plt.subplot(2, 2, 4)\n",
    "plt.bar(df_disney.index,df_disney, tick_label = list(df_disney.index),width = 0.8) \n",
    "for i,data in enumerate(df_disney):\n",
    "    plt.text(x=i , y =data+1 , s=f\"{data}\" , fontdict=dict(fontsize=9))\n",
    "plt.title(\"Disney+\")\n",
    "plt.xlabel(\"Languages\")\n",
    "plt.ylabel(\"Number of Movies\")\n",
    "plt.subplots_adjust(bottom = 5 ,top = 6 , wspace = 0.8 ,hspace = 0.8, left=0.9, right=2.3)\n",
    "plt.show()\n",
    "        \n",
    "        \n",
    "        \n",
    "        \n",
    "        \n",
    "        \n",
    "        "
   ]
  },
  {
   "cell_type": "code",
   "execution_count": 214,
   "id": "900d8aa4-886d-403d-a35d-6335ee58e839",
   "metadata": {},
   "outputs": [],
   "source": [
    "#Availability of movies in various age groups by each streaming platform."
   ]
  },
  {
   "cell_type": "code",
   "execution_count": 215,
   "id": "29824aa7-180a-4a1d-8033-050683e9ce0d",
   "metadata": {},
   "outputs": [
    {
     "data": {
      "text/plain": [
       "array(['18+', '7+', '13+', '16+', 'all'], dtype=object)"
      ]
     },
     "execution_count": 215,
     "metadata": {},
     "output_type": "execute_result"
    }
   ],
   "source": [
    "age_unique=df.Age.unique()\n",
    "age_unique\n"
   ]
  },
  {
   "cell_type": "code",
   "execution_count": 216,
   "id": "9383f8c1-7c3a-4ab7-9d1e-407fd3a7191e",
   "metadata": {},
   "outputs": [],
   "source": [
    "dict_age={}\n",
    "platform = ['Prime Video','Netflix', 'Hulu', 'Disney+']\n",
    "for p in platform:\n",
    "    age_count=[]\n",
    "    for age in age_unique:   \n",
    "        df_boolean=df.apply(lambda x : True\n",
    "            if x['Age'] == age and x[p]==1  else False, axis = 1)\n",
    "        age_count.append(len(df_boolean[df_boolean == True].index))\n",
    "    dict_age[p]=np.array(age_count)\n"
   ]
  },
  {
   "cell_type": "code",
   "execution_count": 217,
   "id": "bc91ea49-ba12-4029-a090-c19733957d8a",
   "metadata": {},
   "outputs": [],
   "source": [
    "df_age = pd.DataFrame(dict_age)\n",
    "df_age= df_age.T\n",
    "df_age.rename(columns={0: '18+', 1: '7+',2: '13+',3: '16+',4:'all'}, inplace=True)\n",
    "df_age['Platforms']=platform"
   ]
  },
  {
   "cell_type": "code",
   "execution_count": 227,
   "id": "e3e55fea-eeda-4b85-aa75-19c828728165",
   "metadata": {},
   "outputs": [
    {
     "data": {
      "text/plain": [
       "<matplotlib.legend.Legend at 0x7fc2b83bc820>"
      ]
     },
     "execution_count": 227,
     "metadata": {},
     "output_type": "execute_result"
    },
    {
     "data": {
      "image/png": "[encoded data removed]",
      "text/plain": [
       "<Figure size 576x432 with 1 Axes>"
      ]
     },
     "metadata": {
      "needs_background": "light"
     },
     "output_type": "display_data"
    }
   ],
   "source": [
    "df_age.plot(\n",
    "    x = 'Platforms',\n",
    "    kind = 'barh',\n",
    "    stacked = True,\n",
    "    title = 'Movies availability by Age group ',\n",
    "    mark_right = True).legend(loc='center left',bbox_to_anchor=(1.0, 0.5))\n"
   ]
  },
  {
   "cell_type": "code",
   "execution_count": null,
   "id": "bbb11ca1-ecfe-4cb1-a9aa-9ce7504b2daa",
   "metadata": {},
   "outputs": [],
   "source": []
  }
 ],
 "metadata": {
  "kernelspec": {
   "display_name": "Python 3",
   "language": "python",
   "name": "python3"
  },
  "language_info": {
   "codemirror_mode": {
    "name": "ipython",
    "version": 3
   },
   "file_extension": ".py",
   "mimetype": "text/x-python",
   "name": "python",
   "nbconvert_exporter": "python",
   "pygments_lexer": "ipython3",
   "version": "3.8.8"
  }
 },
 "nbformat": 4,
 "nbformat_minor": 5
}
